{
 "cells": [
  {
   "cell_type": "code",
   "execution_count": 1,
   "metadata": {},
   "outputs": [],
   "source": [
    "from PIL import Image\n",
    "import os\n",
    "import glob\n",
    "import numpy as np\n",
    "from sklearn import model_selection\n",
    "\n",
    "classes = ['monkey', 'boar', 'crow']\n",
    "num_classes = len(classes)\n",
    "image_size = 50\n",
    "\n",
    "# load images\n",
    "X = []\n",
    "Y = []\n",
    "\n",
    "for index, class_label in enumerate(classes):\n",
    "    photos_dir = './' + class_label\n",
    "    files = glob.glob(photos_dir + '/*.jpg')\n",
    "    for i, file in enumerate(files):\n",
    "        if i >= 200:\n",
    "            break\n",
    "        image = Image.open(file)\n",
    "        image = image.convert('RGB')\n",
    "        image = image.resize((image_size, image_size))\n",
    "        data = np.asarray(image)\n",
    "        X.append(data)\n",
    "        Y.append(index)\n",
    "\n",
    "X = np.array(X)\n",
    "Y = np.array(Y)\n",
    "\n",
    "X_train, X_test, Y_train, Y_test = model_selection.train_test_split(X, Y)\n",
    "xy = (X_train, X_test, Y_train, Y_test)\n",
    "np.save('./animal.npy', xy)\n"
   ]
  },
  {
   "cell_type": "code",
   "execution_count": 2,
   "metadata": {},
   "outputs": [
    {
     "data": {
      "text/plain": [
       "450"
      ]
     },
     "execution_count": 2,
     "metadata": {},
     "output_type": "execute_result"
    }
   ],
   "source": [
    "len(X_train)"
   ]
  },
  {
   "cell_type": "code",
   "execution_count": 3,
   "metadata": {},
   "outputs": [
    {
     "data": {
      "text/plain": [
       "150"
      ]
     },
     "execution_count": 3,
     "metadata": {},
     "output_type": "execute_result"
    }
   ],
   "source": [
    "len(X_test)"
   ]
  },
  {
   "cell_type": "code",
   "execution_count": 4,
   "metadata": {},
   "outputs": [
    {
     "data": {
      "text/plain": [
       "450"
      ]
     },
     "execution_count": 4,
     "metadata": {},
     "output_type": "execute_result"
    }
   ],
   "source": [
    "len(Y_train)"
   ]
  },
  {
   "cell_type": "code",
   "execution_count": 5,
   "metadata": {},
   "outputs": [
    {
     "data": {
      "text/plain": [
       "150"
      ]
     },
     "execution_count": 5,
     "metadata": {},
     "output_type": "execute_result"
    }
   ],
   "source": [
    "len(Y_test)"
   ]
  },
  {
   "cell_type": "code",
   "execution_count": 6,
   "metadata": {},
   "outputs": [
    {
     "data": {
      "text/plain": [
       "array([[[ 67,  56,  50],\n",
       "        [ 78,  71,  61],\n",
       "        [103,  99,  88],\n",
       "        ...,\n",
       "        [ 97,  92,  73],\n",
       "        [104,  97,  79],\n",
       "        [121, 114,  98]],\n",
       "\n",
       "       [[ 90,  83,  77],\n",
       "        [ 59,  52,  44],\n",
       "        [ 89,  82,  74],\n",
       "        ...,\n",
       "        [ 47,  45,  32],\n",
       "        [ 61,  58,  51],\n",
       "        [ 54,  51,  44]],\n",
       "\n",
       "       [[ 90,  85,  81],\n",
       "        [101,  96,  90],\n",
       "        [ 80,  73,  65],\n",
       "        ...,\n",
       "        [ 68,  66,  67],\n",
       "        [ 68,  69,  64],\n",
       "        [ 85,  86,  80]],\n",
       "\n",
       "       ...,\n",
       "\n",
       "       [[104,  97, 104],\n",
       "        [ 77,  66,  60],\n",
       "        [ 73,  60,  52],\n",
       "        ...,\n",
       "        [104,  94,  85],\n",
       "        [ 87,  83,  82],\n",
       "        [ 62,  53,  56]],\n",
       "\n",
       "       [[100, 100,  88],\n",
       "        [ 61,  57,  58],\n",
       "        [ 91,  88,  71],\n",
       "        ...,\n",
       "        [ 67,  57,  48],\n",
       "        [ 76,  69,  61],\n",
       "        [121, 114, 106]],\n",
       "\n",
       "       [[ 80,  77,  62],\n",
       "        [ 91,  83,  81],\n",
       "        [ 95,  89,  73],\n",
       "        ...,\n",
       "        [165, 155, 145],\n",
       "        [132, 124, 121],\n",
       "        [ 76,  68,  65]]], dtype=uint8)"
      ]
     },
     "execution_count": 6,
     "metadata": {},
     "output_type": "execute_result"
    }
   ],
   "source": [
    "X_train[100]"
   ]
  },
  {
   "cell_type": "code",
   "execution_count": 7,
   "metadata": {},
   "outputs": [
    {
     "data": {
      "text/plain": [
       "1"
      ]
     },
     "execution_count": 7,
     "metadata": {},
     "output_type": "execute_result"
    }
   ],
   "source": [
    "Y_train[100]"
   ]
  },
  {
   "cell_type": "code",
   "execution_count": null,
   "metadata": {},
   "outputs": [],
   "source": []
  }
 ],
 "metadata": {
  "kernelspec": {
   "display_name": "Python 3",
   "language": "python",
   "name": "python3"
  },
  "language_info": {
   "codemirror_mode": {
    "name": "ipython",
    "version": 3
   },
   "file_extension": ".py",
   "mimetype": "text/x-python",
   "name": "python",
   "nbconvert_exporter": "python",
   "pygments_lexer": "ipython3",
   "version": "3.7.4"
  }
 },
 "nbformat": 4,
 "nbformat_minor": 2
}
